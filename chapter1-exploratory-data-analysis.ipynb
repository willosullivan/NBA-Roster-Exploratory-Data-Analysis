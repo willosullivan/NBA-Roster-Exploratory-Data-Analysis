{
 "cells": [
  {
   "cell_type": "markdown",
   "metadata": {},
   "source": [
    "# Chapter 1: Exploratory Data Analysis\n",
    "\n",
    "**Dataset:** https://www.kaggle.com/justinas/nba-players-data\n",
    "\n",
    "**Summary:** Below I demonstrate some data analytics techniques that are useful in examining:\n",
    "\n",
    "- The first statistical moment: estimate of location\n",
    "- The second statistical moment: estimate of variability\n",
    "- The third statistical moment: estimate of skewedness\n",
    "- The fourth statistical moment estimate of kurtosis\n",
    "\n",
    "I have used \"Chapter 1 - Exploratoy Data Analysis\" from Practical Statistics for Data Scientists (O'Reilly) as a reference point and have written my own code as the code in the book wasn't reliable.  \n",
    "\n",
    "**Limitations:** I am not attempting to answer any specific questions in this piece. The purpose is to demonstrate the tools themselves and leave you resourced to frame and answer your own questions using the techniques below."
   ]
  },
  {
   "cell_type": "markdown",
   "metadata": {},
   "source": [
    "Questions to answer:\n",
    " - "
   ]
  },
  {
   "cell_type": "code",
   "execution_count": 2,
   "metadata": {},
   "outputs": [],
   "source": [
    "# import modules\n",
    "import matplotlib.pyplot as plt\n",
    "import numpy as np # numerical python for working with arrays/matricies\n",
    "import pandas as pd # data analytics library for working with panel (structured) data\n",
    "import seaborn as sns # a sick plotting library (in lieu of plotly, which doesn't integrate with free GitHub)\n",
    "from scipy.stats import binom\n",
    "from scipy.stats import trim_mean # method to calculate trimmed mean\n",
    "from statistics import variance\n",
    "from statistics import stdev # method to calculate standarv deviation of an array"
   ]
  },
  {
   "cell_type": "markdown",
   "metadata": {},
   "source": [
    "### Importing our data and getting set up"
   ]
  },
  {
   "cell_type": "code",
   "execution_count": 5,
   "metadata": {},
   "outputs": [],
   "source": [
    "# import our dataset into variable raw_data\n",
    "raw_data = pd.read_csv('all_seasons.csv')\n",
    "# create copy of raw_data for workings\n",
    "df = raw_data.copy()\n",
    "# turn max columns off so we can view full width of dataframe\n",
    "pd.set_option('max_columns', None)"
   ]
  },
  {
   "cell_type": "markdown",
   "metadata": {},
   "source": [
    "### Getting a feel for the dataset"
   ]
  },
  {
   "cell_type": "code",
   "execution_count": 10,
   "metadata": {},
   "outputs": [
    {
     "name": "stdout",
     "output_type": "stream",
     "text": [
      "(11700, 22)\n",
      "The dataframe contains 11700 rows and 22 columns.\n"
     ]
    }
   ],
   "source": [
    "# calclate dimensions of our dataframe (rows x columns)\n",
    "print(df.shape)\n",
    "# rewrite the above code to be more detailed in output by accessing rows and columns index \n",
    "print(f'The dataframe contains {df.shape[0]} rows and {df.shape[1]} columns.')"
   ]
  },
  {
   "cell_type": "code",
   "execution_count": 8,
   "metadata": {},
   "outputs": [
    {
     "name": "stdout",
     "output_type": "stream",
     "text": [
      "<class 'pandas.core.frame.DataFrame'>\n",
      "RangeIndex: 11700 entries, 0 to 11699\n",
      "Data columns (total 22 columns):\n",
      " #   Column             Non-Null Count  Dtype  \n",
      "---  ------             --------------  -----  \n",
      " 0   Unnamed: 0         11700 non-null  int64  \n",
      " 1   player_name        11700 non-null  object \n",
      " 2   team_abbreviation  11700 non-null  object \n",
      " 3   age                11700 non-null  float64\n",
      " 4   player_height      11700 non-null  float64\n",
      " 5   player_weight      11700 non-null  float64\n",
      " 6   college            11700 non-null  object \n",
      " 7   country            11700 non-null  object \n",
      " 8   draft_year         11700 non-null  object \n",
      " 9   draft_round        11700 non-null  object \n",
      " 10  draft_number       11700 non-null  object \n",
      " 11  gp                 11700 non-null  int64  \n",
      " 12  pts                11700 non-null  float64\n",
      " 13  reb                11700 non-null  float64\n",
      " 14  ast                11700 non-null  float64\n",
      " 15  net_rating         11700 non-null  float64\n",
      " 16  oreb_pct           11700 non-null  float64\n",
      " 17  dreb_pct           11700 non-null  float64\n",
      " 18  usg_pct            11700 non-null  float64\n",
      " 19  ts_pct             11700 non-null  float64\n",
      " 20  ast_pct            11700 non-null  float64\n",
      " 21  season             11700 non-null  object \n",
      "dtypes: float64(12), int64(2), object(8)\n",
      "memory usage: 2.0+ MB\n"
     ]
    }
   ],
   "source": [
    "# take a look at column names, any missing values as column data types (object = string/textual)\n",
    "df.info()"
   ]
  },
  {
   "cell_type": "markdown",
   "metadata": {},
   "source": [
    "### The First Statistical Moment: Estimates of Location"
   ]
  },
  {
   "cell_type": "markdown",
   "metadata": {},
   "source": [
    "**Mean:** Sum of values divided by count of values."
   ]
  },
  {
   "cell_type": "code",
   "execution_count": 12,
   "metadata": {},
   "outputs": [
    {
     "data": {
      "text/plain": [
       "200.7285008547074"
      ]
     },
     "execution_count": 12,
     "metadata": {},
     "output_type": "execute_result"
    }
   ],
   "source": [
    "# With methods\n",
    "df['player_height'].mean()"
   ]
  },
  {
   "cell_type": "code",
   "execution_count": 11,
   "metadata": {},
   "outputs": [
    {
     "data": {
      "text/plain": [
       "200.7285008547074"
      ]
     },
     "execution_count": 11,
     "metadata": {},
     "output_type": "execute_result"
    }
   ],
   "source": [
    "# With my own function\n",
    "def my_mean(array):\n",
    "    n_players = len(array)\n",
    "    total = 0\n",
    "    sentinel = 0\n",
    "    while sentinel < n_players:\n",
    "        height = array[sentinel]\n",
    "        total += height \n",
    "        sentinel += 1\n",
    "    mean = total / n_players\n",
    "    return mean\n",
    "\n",
    "my_mean(df['player_height'])"
   ]
  },
  {
   "cell_type": "markdown",
   "metadata": {},
   "source": [
    "**Trimmed Mean:** Involves removing a user-specified fixed set of numbers from the tails of a distribution and taking the mean from the remaining array.\n",
    "\n",
    "This techniques helps reduce the impact of outliers and is widely preferred to the standard mean."
   ]
  },
  {
   "cell_type": "code",
   "execution_count": 13,
   "metadata": {},
   "outputs": [
    {
     "data": {
      "text/plain": [
       "201.095405982906"
      ]
     },
     "execution_count": 13,
     "metadata": {},
     "output_type": "execute_result"
    }
   ],
   "source": [
    "# With methods\n",
    "trim_mean(df['player_height'], 0.1)"
   ]
  },
  {
   "cell_type": "code",
   "execution_count": 25,
   "metadata": {},
   "outputs": [],
   "source": [
    "# without methods/writing our own function"
   ]
  },
  {
   "cell_type": "markdown",
   "metadata": {},
   "source": [
    "**Weighted Mean:** Same as mean but with every value multiplied with a user specified  before summing and dividng by the number of values.\n",
    "\n",
    "This techniques is useful when some values are intrinsically more valuable than others or the data collected does not equally represent the different groups we are measuring."
   ]
  },
  {
   "cell_type": "code",
   "execution_count": 14,
   "metadata": {},
   "outputs": [
    {
     "data": {
      "text/plain": [
       "201.67372543223348"
      ]
     },
     "execution_count": 14,
     "metadata": {},
     "output_type": "execute_result"
    }
   ],
   "source": [
    "# With methods\n",
    "np.average(df['player_height'], weights = df['player_weight'])"
   ]
  },
  {
   "cell_type": "markdown",
   "metadata": {},
   "source": [
    "**Median:** The middle value in a numerically sorted array."
   ]
  },
  {
   "cell_type": "code",
   "execution_count": 15,
   "metadata": {},
   "outputs": [
    {
     "data": {
      "text/plain": [
       "200.66"
      ]
     },
     "execution_count": 15,
     "metadata": {},
     "output_type": "execute_result"
    }
   ],
   "source": [
    "# With methods\n",
    "df['player_height'].median()"
   ]
  },
  {
   "cell_type": "markdown",
   "metadata": {},
   "source": [
    "**Weighted Median:** Weighted Median: We multiply every value with some weight xi and then pick the middle value such that the sum of values to the left of the median are the same as the sum of values to the rights of the median."
   ]
  },
  {
   "cell_type": "code",
   "execution_count": 34,
   "metadata": {},
   "outputs": [
    {
     "data": {
      "text/plain": [
       "203.2"
      ]
     },
     "execution_count": 34,
     "metadata": {},
     "output_type": "execute_result"
    }
   ],
   "source": [
    "# Writing my own function\n",
    "def my_weighted_median(df, median_col, weight_col):\n",
    "    df = df.sort_values(median_col)\n",
    "    cumsum = df[weight_col].cumsum()\n",
    "    cutoff = df[weight_col].sum() / 2\n",
    "    return df[cumsum >= cutoff][median_col].iloc[0]\n",
    "\n",
    "my_weighted_median(df, 'player_height', 'player_weight')"
   ]
  },
  {
   "cell_type": "markdown",
   "metadata": {},
   "source": [
    "**Percentile:** The value such that P percent of the data lay below it."
   ]
  },
  {
   "cell_type": "code",
   "execution_count": 41,
   "metadata": {},
   "outputs": [
    {
     "data": {
      "text/plain": [
       "208.28"
      ]
     },
     "execution_count": 41,
     "metadata": {},
     "output_type": "execute_result"
    }
   ],
   "source": [
    "np.percentile(df['player_height'], 75)"
   ]
  },
  {
   "cell_type": "markdown",
   "metadata": {},
   "source": [
    "### The Second Statistical Moment: Estimates of Variability\n",
    "\n",
    "Measuring variability is the second dimension to summarising a feautre (column, series, 1-D array). Variability is central to statistics and we can generate a lot of useful information about our dataset here."
   ]
  },
  {
   "cell_type": "markdown",
   "metadata": {},
   "source": [
    "#### Non-Robust Measures of deviation"
   ]
  },
  {
   "cell_type": "markdown",
   "metadata": {},
   "source": [
    "**Variance:** Average of the squared deviations, where we have summed squared deviations from the mean and dividied by n-1 where n is the number of values. AKA mean squared error."
   ]
  },
  {
   "cell_type": "code",
   "execution_count": 46,
   "metadata": {},
   "outputs": [
    {
     "data": {
      "text/plain": [
       "84.08572969527239"
      ]
     },
     "execution_count": 46,
     "metadata": {},
     "output_type": "execute_result"
    }
   ],
   "source": [
    "# With methods\n",
    "variance(df['player_height'])"
   ]
  },
  {
   "cell_type": "code",
   "execution_count": 16,
   "metadata": {},
   "outputs": [
    {
     "data": {
      "text/plain": [
       "84.07854288076574"
      ]
     },
     "execution_count": 16,
     "metadata": {},
     "output_type": "execute_result"
    }
   ],
   "source": [
    "# Writing my own function\n",
    "def my_variance(col):\n",
    "    mean_height = my_mean(col)\n",
    "    total_squared_errors = 0\n",
    "    for value in col:\n",
    "        difference = value - mean_height\n",
    "        total_squared_errors += difference ** 2\n",
    "    variance = total_squared_errors/len(col)\n",
    "    return variance\n",
    "\n",
    "my_variance(df['player_height'])    "
   ]
  },
  {
   "cell_type": "markdown",
   "metadata": {},
   "source": [
    "**Standard Deviation**: The square root of the variance, bringing result to the same scale as the original data.\n",
    "\n",
    "The superior choice to mean absolute deviation because working with squared values is easier that absolute value"
   ]
  },
  {
   "cell_type": "code",
   "execution_count": 17,
   "metadata": {},
   "outputs": [
    {
     "data": {
      "text/plain": [
       "9.169827135517462"
      ]
     },
     "execution_count": 17,
     "metadata": {},
     "output_type": "execute_result"
    }
   ],
   "source": [
    "# With methods\n",
    "stdev(df['player_height'])"
   ]
  },
  {
   "cell_type": "code",
   "execution_count": 53,
   "metadata": {},
   "outputs": [
    {
     "data": {
      "text/plain": [
       "9.16943525418909"
      ]
     },
     "execution_count": 53,
     "metadata": {},
     "output_type": "execute_result"
    }
   ],
   "source": [
    "# Writing my own funciton\n",
    "def my_stdev(col):\n",
    "    mean_height = my_mean(col)\n",
    "    total_squared_errors = 0\n",
    "    for value in col:\n",
    "        difference = value - mean_height\n",
    "        total_squared_errors += difference ** 2\n",
    "    variance = total_squared_errors/len(col)\n",
    "    stdev = variance ** (1/2)\n",
    "    return stdev\n",
    "\n",
    "my_stdev(df['player_height']) "
   ]
  },
  {
   "cell_type": "markdown",
   "metadata": {},
   "source": [
    "**Mean Absolute Deviation:** The mean of the absolute deviations from the mean."
   ]
  },
  {
   "cell_type": "code",
   "execution_count": 54,
   "metadata": {},
   "outputs": [
    {
     "data": {
      "text/plain": [
       "7.48758317393521"
      ]
     },
     "execution_count": 54,
     "metadata": {},
     "output_type": "execute_result"
    }
   ],
   "source": [
    "np.mean(np.absolute(df['player_height'] - np.mean(df['player_height'])))"
   ]
  },
  {
   "cell_type": "markdown",
   "metadata": {},
   "source": [
    "#### Robust Measures of Deviation "
   ]
  },
  {
   "cell_type": "markdown",
   "metadata": {},
   "source": [
    "**Median Absolute Deviation:** The median of the absolute deviations from the median"
   ]
  },
  {
   "cell_type": "code",
   "execution_count": 55,
   "metadata": {},
   "outputs": [
    {
     "data": {
      "text/plain": [
       "7.6200000000000045"
      ]
     },
     "execution_count": 55,
     "metadata": {},
     "output_type": "execute_result"
    }
   ],
   "source": [
    "np.median(np.absolute(df['player_height'] - np.median(df['player_height'])))"
   ]
  },
  {
   "cell_type": "markdown",
   "metadata": {},
   "source": [
    "**Range:** The difference between the smalles and largest data points, in a way summarising spread."
   ]
  },
  {
   "cell_type": "code",
   "execution_count": 7,
   "metadata": {},
   "outputs": [
    {
     "data": {
      "text/plain": [
       "71.11999999999998"
      ]
     },
     "execution_count": 7,
     "metadata": {},
     "output_type": "execute_result"
    }
   ],
   "source": [
    "np.max(df['player_height']) - np.min(df['player_height'])"
   ]
  },
  {
   "cell_type": "markdown",
   "metadata": {},
   "source": [
    "**Minimum:** Smallest value in an array."
   ]
  },
  {
   "cell_type": "code",
   "execution_count": 10,
   "metadata": {},
   "outputs": [
    {
     "data": {
      "text/plain": [
       "160.02"
      ]
     },
     "execution_count": 10,
     "metadata": {},
     "output_type": "execute_result"
    }
   ],
   "source": [
    "np.min(df['player_height'])"
   ]
  },
  {
   "cell_type": "markdown",
   "metadata": {},
   "source": [
    "**Maximum:** Largest value in an array."
   ]
  },
  {
   "cell_type": "code",
   "execution_count": 9,
   "metadata": {},
   "outputs": [
    {
     "data": {
      "text/plain": [
       "231.14"
      ]
     },
     "execution_count": 9,
     "metadata": {},
     "output_type": "execute_result"
    }
   ],
   "source": [
    "np.max(df['player_height'])"
   ]
  },
  {
   "cell_type": "markdown",
   "metadata": {},
   "source": [
    "**Interquartile Range:** Difference between 75th and 25th percentile."
   ]
  },
  {
   "cell_type": "code",
   "execution_count": 12,
   "metadata": {},
   "outputs": [
    {
     "data": {
      "text/plain": [
       "array([208.28, 193.04])"
      ]
     },
     "execution_count": 12,
     "metadata": {},
     "output_type": "execute_result"
    }
   ],
   "source": [
    "np.percentile(df['player_height'], [75, 25])"
   ]
  },
  {
   "cell_type": "markdown",
   "metadata": {},
   "source": [
    "### The Third and Fourth Statistical Moments: Exploring the Data Distribution for Skewedness and Kurtosis"
   ]
  },
  {
   "cell_type": "markdown",
   "metadata": {},
   "source": [
    "**Boxplots:** Useful way to summarise the distribution of your data in your dataset."
   ]
  },
  {
   "cell_type": "code",
   "execution_count": 27,
   "metadata": {},
   "outputs": [
    {
     "data": {
      "image/png": "[encoded data removed]",
      "text/plain": [
       "<Figure size 1008x432 with 1 Axes>"
      ]
     },
     "metadata": {},
     "output_type": "display_data"
    }
   ],
   "source": [
    "# Increase chart size\n",
    "sns.set(rc={'figure.figsize': (14, 6)})\n",
    "# Rotate team labels to 45 degrees for reasdibility\n",
    "plt.xticks(rotation=90)\n",
    "# Graph the data\n",
    "ax = sns.boxplot(x='team_abbreviation', y='player_height', data=df)"
   ]
  },
  {
   "cell_type": "markdown",
   "metadata": {},
   "source": [
    "**Frequency Table:** A frequency table of a variable divides up the variable range into equally spaced seg‐ ments and tells us how many values fall within each segment.\n",
    "\n",
    "Creating a frequency table is often a preprocessing step prior to generating a histogram."
   ]
  },
  {
   "cell_type": "code",
   "execution_count": 30,
   "metadata": {},
   "outputs": [
    {
     "data": {
      "text/html": [
       "<div>\n",
       "<style scoped>\n",
       "    .dataframe tbody tr th:only-of-type {\n",
       "        vertical-align: middle;\n",
       "    }\n",
       "\n",
       "    .dataframe tbody tr th {\n",
       "        vertical-align: top;\n",
       "    }\n",
       "\n",
       "    .dataframe thead th {\n",
       "        text-align: right;\n",
       "    }\n",
       "</style>\n",
       "<table border=\"1\" class=\"dataframe\">\n",
       "  <thead>\n",
       "    <tr style=\"text-align: right;\">\n",
       "      <th></th>\n",
       "      <th>freq</th>\n",
       "      <th>Unnamed: 0</th>\n",
       "    </tr>\n",
       "  </thead>\n",
       "  <tbody>\n",
       "    <tr>\n",
       "      <th>0</th>\n",
       "      <td>(159.949, 167.132]</td>\n",
       "      <td>18</td>\n",
       "    </tr>\n",
       "    <tr>\n",
       "      <th>1</th>\n",
       "      <td>(167.132, 174.244]</td>\n",
       "      <td>1</td>\n",
       "    </tr>\n",
       "    <tr>\n",
       "      <th>2</th>\n",
       "      <td>(174.244, 181.356]</td>\n",
       "      <td>190</td>\n",
       "    </tr>\n",
       "    <tr>\n",
       "      <th>3</th>\n",
       "      <td>(181.356, 188.468]</td>\n",
       "      <td>1251</td>\n",
       "    </tr>\n",
       "    <tr>\n",
       "      <th>4</th>\n",
       "      <td>(188.468, 195.58]</td>\n",
       "      <td>1468</td>\n",
       "    </tr>\n",
       "    <tr>\n",
       "      <th>5</th>\n",
       "      <td>(195.58, 202.692]</td>\n",
       "      <td>3014</td>\n",
       "    </tr>\n",
       "    <tr>\n",
       "      <th>6</th>\n",
       "      <td>(202.692, 209.804]</td>\n",
       "      <td>3712</td>\n",
       "    </tr>\n",
       "    <tr>\n",
       "      <th>7</th>\n",
       "      <td>(209.804, 216.916]</td>\n",
       "      <td>1882</td>\n",
       "    </tr>\n",
       "    <tr>\n",
       "      <th>8</th>\n",
       "      <td>(216.916, 224.028]</td>\n",
       "      <td>138</td>\n",
       "    </tr>\n",
       "    <tr>\n",
       "      <th>9</th>\n",
       "      <td>(224.028, 231.14]</td>\n",
       "      <td>26</td>\n",
       "    </tr>\n",
       "  </tbody>\n",
       "</table>\n",
       "</div>"
      ],
      "text/plain": [
       "                 freq  Unnamed: 0\n",
       "0  (159.949, 167.132]          18\n",
       "1  (167.132, 174.244]           1\n",
       "2  (174.244, 181.356]         190\n",
       "3  (181.356, 188.468]        1251\n",
       "4   (188.468, 195.58]        1468\n",
       "5   (195.58, 202.692]        3014\n",
       "6  (202.692, 209.804]        3712\n",
       "7  (209.804, 216.916]        1882\n",
       "8  (216.916, 224.028]         138\n",
       "9   (224.028, 231.14]          26"
      ]
     },
     "execution_count": 30,
     "metadata": {},
     "output_type": "execute_result"
    }
   ],
   "source": [
    "frequency_table = df.copy()\n",
    "frequency_table[\"freq\"] = pd.cut(df[\"player_height\"], 10)\n",
    "frequency_table.groupby(\"freq\")[\"Unnamed: 0\"].count().reset_index() # Creates a frequency table of values based on the specified series and segment number"
   ]
  },
  {
   "cell_type": "markdown",
   "metadata": {},
   "source": [
    "**Histogram:** A diagram consisting of rectangles whose area is proportional to the frequency of a variable and whose width is equal to the class interval."
   ]
  },
  {
   "cell_type": "code",
   "execution_count": 49,
   "metadata": {},
   "outputs": [
    {
     "data": {
      "text/plain": [
       "<AxesSubplot:xlabel='player_height', ylabel='Count'>"
      ]
     },
     "execution_count": 49,
     "metadata": {},
     "output_type": "execute_result"
    },
    {
     "data": {
      "image/png": "[encoded data removed]",
      "text/plain": [
       "<Figure size 1008x432 with 1 Axes>"
      ]
     },
     "metadata": {},
     "output_type": "display_data"
    }
   ],
   "source": [
    "sns.histplot(data=df, x='player_height', bins=20)"
   ]
  },
  {
   "cell_type": "markdown",
   "metadata": {},
   "source": [
    "**Denisty Plot:** Essentially a histogram with a curve that represents the distribution of data values as a continuous line and the y-axis is plottedas"
   ]
  },
  {
   "cell_type": "code",
   "execution_count": 50,
   "metadata": {},
   "outputs": [
    {
     "data": {
      "text/plain": [
       "<AxesSubplot:xlabel='player_height', ylabel='Count'>"
      ]
     },
     "execution_count": 50,
     "metadata": {},
     "output_type": "execute_result"
    },
    {
     "data": {
      "image/png": "[encoded data removed]",
      "text/plain": [
       "<Figure size 1008x432 with 1 Axes>"
      ]
     },
     "metadata": {},
     "output_type": "display_data"
    }
   ],
   "source": [
    "sns.histplot(data=df, x='player_height', bins=20, kde=True)"
   ]
  },
  {
   "cell_type": "markdown",
   "metadata": {},
   "source": [
    "**Mode:** Value occuring with the highest frequency."
   ]
  },
  {
   "cell_type": "code",
   "execution_count": 52,
   "metadata": {},
   "outputs": [
    {
     "data": {
      "text/plain": [
       "0    205.74\n",
       "dtype: float64"
      ]
     },
     "execution_count": 52,
     "metadata": {},
     "output_type": "execute_result"
    }
   ],
   "source": [
    "df['player_height'].mode()"
   ]
  },
  {
   "cell_type": "markdown",
   "metadata": {},
   "source": [
    "**Expected Value**"
   ]
  },
  {
   "cell_type": "code",
   "execution_count": 3,
   "metadata": {},
   "outputs": [
    {
     "data": {
      "text/plain": [
       "(array(50.), array(25.))"
      ]
     },
     "execution_count": 3,
     "metadata": {},
     "output_type": "execute_result"
    }
   ],
   "source": [
    "# The expected value and variance of 100 fair coin flips\n",
    "binom.stats(n=100, p=0.5)"
   ]
  },
  {
   "cell_type": "code",
   "execution_count": 4,
   "metadata": {},
   "outputs": [
    {
     "data": {
      "text/plain": [
       "(array(30.), array(21.))"
      ]
     },
     "execution_count": 4,
     "metadata": {},
     "output_type": "execute_result"
    }
   ],
   "source": [
    "# The expected value and variance of 100 biased coin flips with 30% probability of getting heads\n",
    "# Probability of getting heads = 1 x 0.3, and variance = 0.3 x 0.7 ('p' of failure)\n",
    "binom.stats(n=100, p=0.3)"
   ]
  },
  {
   "cell_type": "markdown",
   "metadata": {},
   "source": [
    "**Bar Chart:** Visualises the count of occurences of a categorical value, where the length of the bar is dictated by said count."
   ]
  },
  {
   "cell_type": "code",
   "execution_count": 61,
   "metadata": {},
   "outputs": [
    {
     "data": {
      "text/plain": [
       "<AxesSubplot:xlabel='team_abbreviation', ylabel='counts'>"
      ]
     },
     "execution_count": 61,
     "metadata": {},
     "output_type": "execute_result"
    },
    {
     "data": {
      "image/png": "[encoded data removed]",
      "text/plain": [
       "<Figure size 1008x432 with 1 Axes>"
      ]
     },
     "metadata": {},
     "output_type": "display_data"
    }
   ],
   "source": [
    "representation = df.groupby(['team_abbreviation']).size().reset_index(name='counts').sort_values(by=['counts'], ascending=False)\n",
    "r = representation.sample(10)\n",
    "sns.barplot(data=r, x='team_abbreviation', y='counts')"
   ]
  },
  {
   "cell_type": "markdown",
   "metadata": {},
   "source": [
    "### Exploring 2 or more Variables"
   ]
  },
  {
   "cell_type": "markdown",
   "metadata": {},
   "source": [
    "**Correlation Coefficient:** A metric that determines the extent to which numeric are related, as measured by how a change in one variable changes another variable."
   ]
  },
  {
   "cell_type": "code",
   "execution_count": 62,
   "metadata": {},
   "outputs": [
    {
     "data": {
      "text/plain": [
       "0.8273013138578127"
      ]
     },
     "execution_count": 62,
     "metadata": {},
     "output_type": "execute_result"
    }
   ],
   "source": [
    "np.corrcoef([df['player_height'], df['player_weight']])[0][1]"
   ]
  },
  {
   "cell_type": "markdown",
   "metadata": {},
   "source": [
    "**Correlation Table:** Table with calculated correlations of each pair of features."
   ]
  },
  {
   "cell_type": "code",
   "execution_count": 63,
   "metadata": {},
   "outputs": [
    {
     "data": {
      "text/html": [
       "<div>\n",
       "<style scoped>\n",
       "    .dataframe tbody tr th:only-of-type {\n",
       "        vertical-align: middle;\n",
       "    }\n",
       "\n",
       "    .dataframe tbody tr th {\n",
       "        vertical-align: top;\n",
       "    }\n",
       "\n",
       "    .dataframe thead th {\n",
       "        text-align: right;\n",
       "    }\n",
       "</style>\n",
       "<table border=\"1\" class=\"dataframe\">\n",
       "  <thead>\n",
       "    <tr style=\"text-align: right;\">\n",
       "      <th></th>\n",
       "      <th>age</th>\n",
       "      <th>player_height</th>\n",
       "      <th>player_weight</th>\n",
       "      <th>gp</th>\n",
       "      <th>pts</th>\n",
       "      <th>reb</th>\n",
       "      <th>ast</th>\n",
       "      <th>net_rating</th>\n",
       "      <th>oreb_pct</th>\n",
       "      <th>dreb_pct</th>\n",
       "      <th>usg_pct</th>\n",
       "      <th>ts_pct</th>\n",
       "      <th>ast_pct</th>\n",
       "    </tr>\n",
       "  </thead>\n",
       "  <tbody>\n",
       "    <tr>\n",
       "      <th>age</th>\n",
       "      <td>1.000000</td>\n",
       "      <td>-0.011678</td>\n",
       "      <td>0.052119</td>\n",
       "      <td>0.049585</td>\n",
       "      <td>0.002873</td>\n",
       "      <td>0.031416</td>\n",
       "      <td>0.086853</td>\n",
       "      <td>0.096820</td>\n",
       "      <td>-0.060633</td>\n",
       "      <td>0.014843</td>\n",
       "      <td>-0.127949</td>\n",
       "      <td>0.022131</td>\n",
       "      <td>0.066615</td>\n",
       "    </tr>\n",
       "    <tr>\n",
       "      <th>player_height</th>\n",
       "      <td>-0.011678</td>\n",
       "      <td>1.000000</td>\n",
       "      <td>0.827301</td>\n",
       "      <td>-0.005329</td>\n",
       "      <td>-0.060524</td>\n",
       "      <td>0.422356</td>\n",
       "      <td>-0.457367</td>\n",
       "      <td>-0.008723</td>\n",
       "      <td>0.590928</td>\n",
       "      <td>0.615384</td>\n",
       "      <td>-0.109527</td>\n",
       "      <td>0.069618</td>\n",
       "      <td>-0.625888</td>\n",
       "    </tr>\n",
       "    <tr>\n",
       "      <th>player_weight</th>\n",
       "      <td>0.052119</td>\n",
       "      <td>0.827301</td>\n",
       "      <td>1.000000</td>\n",
       "      <td>0.012496</td>\n",
       "      <td>-0.030655</td>\n",
       "      <td>0.437403</td>\n",
       "      <td>-0.387343</td>\n",
       "      <td>0.000612</td>\n",
       "      <td>0.604062</td>\n",
       "      <td>0.607750</td>\n",
       "      <td>-0.071879</td>\n",
       "      <td>0.062474</td>\n",
       "      <td>-0.540902</td>\n",
       "    </tr>\n",
       "    <tr>\n",
       "      <th>gp</th>\n",
       "      <td>0.049585</td>\n",
       "      <td>-0.005329</td>\n",
       "      <td>0.012496</td>\n",
       "      <td>1.000000</td>\n",
       "      <td>0.538367</td>\n",
       "      <td>0.468870</td>\n",
       "      <td>0.385596</td>\n",
       "      <td>0.254051</td>\n",
       "      <td>-0.020495</td>\n",
       "      <td>0.060785</td>\n",
       "      <td>0.138849</td>\n",
       "      <td>0.377679</td>\n",
       "      <td>0.134810</td>\n",
       "    </tr>\n",
       "    <tr>\n",
       "      <th>pts</th>\n",
       "      <td>0.002873</td>\n",
       "      <td>-0.060524</td>\n",
       "      <td>-0.030655</td>\n",
       "      <td>0.538367</td>\n",
       "      <td>1.000000</td>\n",
       "      <td>0.622818</td>\n",
       "      <td>0.656564</td>\n",
       "      <td>0.221002</td>\n",
       "      <td>-0.124345</td>\n",
       "      <td>0.050246</td>\n",
       "      <td>0.638037</td>\n",
       "      <td>0.378961</td>\n",
       "      <td>0.330269</td>\n",
       "    </tr>\n",
       "    <tr>\n",
       "      <th>reb</th>\n",
       "      <td>0.031416</td>\n",
       "      <td>0.422356</td>\n",
       "      <td>0.437403</td>\n",
       "      <td>0.468870</td>\n",
       "      <td>0.622818</td>\n",
       "      <td>1.000000</td>\n",
       "      <td>0.231678</td>\n",
       "      <td>0.193027</td>\n",
       "      <td>0.410619</td>\n",
       "      <td>0.611215</td>\n",
       "      <td>0.225592</td>\n",
       "      <td>0.312843</td>\n",
       "      <td>-0.078836</td>\n",
       "    </tr>\n",
       "    <tr>\n",
       "      <th>ast</th>\n",
       "      <td>0.086853</td>\n",
       "      <td>-0.457367</td>\n",
       "      <td>-0.387343</td>\n",
       "      <td>0.385596</td>\n",
       "      <td>0.656564</td>\n",
       "      <td>0.231678</td>\n",
       "      <td>1.000000</td>\n",
       "      <td>0.167207</td>\n",
       "      <td>-0.346569</td>\n",
       "      <td>-0.207846</td>\n",
       "      <td>0.387400</td>\n",
       "      <td>0.177817</td>\n",
       "      <td>0.806682</td>\n",
       "    </tr>\n",
       "    <tr>\n",
       "      <th>net_rating</th>\n",
       "      <td>0.096820</td>\n",
       "      <td>-0.008723</td>\n",
       "      <td>0.000612</td>\n",
       "      <td>0.254051</td>\n",
       "      <td>0.221002</td>\n",
       "      <td>0.193027</td>\n",
       "      <td>0.167207</td>\n",
       "      <td>1.000000</td>\n",
       "      <td>0.056778</td>\n",
       "      <td>0.043275</td>\n",
       "      <td>0.000476</td>\n",
       "      <td>0.318076</td>\n",
       "      <td>0.061723</td>\n",
       "    </tr>\n",
       "    <tr>\n",
       "      <th>oreb_pct</th>\n",
       "      <td>-0.060633</td>\n",
       "      <td>0.590928</td>\n",
       "      <td>0.604062</td>\n",
       "      <td>-0.020495</td>\n",
       "      <td>-0.124345</td>\n",
       "      <td>0.410619</td>\n",
       "      <td>-0.346569</td>\n",
       "      <td>0.056778</td>\n",
       "      <td>1.000000</td>\n",
       "      <td>0.557682</td>\n",
       "      <td>-0.101293</td>\n",
       "      <td>0.058805</td>\n",
       "      <td>-0.438385</td>\n",
       "    </tr>\n",
       "    <tr>\n",
       "      <th>dreb_pct</th>\n",
       "      <td>0.014843</td>\n",
       "      <td>0.615384</td>\n",
       "      <td>0.607750</td>\n",
       "      <td>0.060785</td>\n",
       "      <td>0.050246</td>\n",
       "      <td>0.611215</td>\n",
       "      <td>-0.207846</td>\n",
       "      <td>0.043275</td>\n",
       "      <td>0.557682</td>\n",
       "      <td>1.000000</td>\n",
       "      <td>-0.021448</td>\n",
       "      <td>0.102571</td>\n",
       "      <td>-0.338098</td>\n",
       "    </tr>\n",
       "    <tr>\n",
       "      <th>usg_pct</th>\n",
       "      <td>-0.127949</td>\n",
       "      <td>-0.109527</td>\n",
       "      <td>-0.071879</td>\n",
       "      <td>0.138849</td>\n",
       "      <td>0.638037</td>\n",
       "      <td>0.225592</td>\n",
       "      <td>0.387400</td>\n",
       "      <td>0.000476</td>\n",
       "      <td>-0.101293</td>\n",
       "      <td>-0.021448</td>\n",
       "      <td>1.000000</td>\n",
       "      <td>0.118374</td>\n",
       "      <td>0.329701</td>\n",
       "    </tr>\n",
       "    <tr>\n",
       "      <th>ts_pct</th>\n",
       "      <td>0.022131</td>\n",
       "      <td>0.069618</td>\n",
       "      <td>0.062474</td>\n",
       "      <td>0.377679</td>\n",
       "      <td>0.378961</td>\n",
       "      <td>0.312843</td>\n",
       "      <td>0.177817</td>\n",
       "      <td>0.318076</td>\n",
       "      <td>0.058805</td>\n",
       "      <td>0.102571</td>\n",
       "      <td>0.118374</td>\n",
       "      <td>1.000000</td>\n",
       "      <td>0.025994</td>\n",
       "    </tr>\n",
       "    <tr>\n",
       "      <th>ast_pct</th>\n",
       "      <td>0.066615</td>\n",
       "      <td>-0.625888</td>\n",
       "      <td>-0.540902</td>\n",
       "      <td>0.134810</td>\n",
       "      <td>0.330269</td>\n",
       "      <td>-0.078836</td>\n",
       "      <td>0.806682</td>\n",
       "      <td>0.061723</td>\n",
       "      <td>-0.438385</td>\n",
       "      <td>-0.338098</td>\n",
       "      <td>0.329701</td>\n",
       "      <td>0.025994</td>\n",
       "      <td>1.000000</td>\n",
       "    </tr>\n",
       "  </tbody>\n",
       "</table>\n",
       "</div>"
      ],
      "text/plain": [
       "                    age  player_height  player_weight        gp       pts  \\\n",
       "age            1.000000      -0.011678       0.052119  0.049585  0.002873   \n",
       "player_height -0.011678       1.000000       0.827301 -0.005329 -0.060524   \n",
       "player_weight  0.052119       0.827301       1.000000  0.012496 -0.030655   \n",
       "gp             0.049585      -0.005329       0.012496  1.000000  0.538367   \n",
       "pts            0.002873      -0.060524      -0.030655  0.538367  1.000000   \n",
       "reb            0.031416       0.422356       0.437403  0.468870  0.622818   \n",
       "ast            0.086853      -0.457367      -0.387343  0.385596  0.656564   \n",
       "net_rating     0.096820      -0.008723       0.000612  0.254051  0.221002   \n",
       "oreb_pct      -0.060633       0.590928       0.604062 -0.020495 -0.124345   \n",
       "dreb_pct       0.014843       0.615384       0.607750  0.060785  0.050246   \n",
       "usg_pct       -0.127949      -0.109527      -0.071879  0.138849  0.638037   \n",
       "ts_pct         0.022131       0.069618       0.062474  0.377679  0.378961   \n",
       "ast_pct        0.066615      -0.625888      -0.540902  0.134810  0.330269   \n",
       "\n",
       "                    reb       ast  net_rating  oreb_pct  dreb_pct   usg_pct  \\\n",
       "age            0.031416  0.086853    0.096820 -0.060633  0.014843 -0.127949   \n",
       "player_height  0.422356 -0.457367   -0.008723  0.590928  0.615384 -0.109527   \n",
       "player_weight  0.437403 -0.387343    0.000612  0.604062  0.607750 -0.071879   \n",
       "gp             0.468870  0.385596    0.254051 -0.020495  0.060785  0.138849   \n",
       "pts            0.622818  0.656564    0.221002 -0.124345  0.050246  0.638037   \n",
       "reb            1.000000  0.231678    0.193027  0.410619  0.611215  0.225592   \n",
       "ast            0.231678  1.000000    0.167207 -0.346569 -0.207846  0.387400   \n",
       "net_rating     0.193027  0.167207    1.000000  0.056778  0.043275  0.000476   \n",
       "oreb_pct       0.410619 -0.346569    0.056778  1.000000  0.557682 -0.101293   \n",
       "dreb_pct       0.611215 -0.207846    0.043275  0.557682  1.000000 -0.021448   \n",
       "usg_pct        0.225592  0.387400    0.000476 -0.101293 -0.021448  1.000000   \n",
       "ts_pct         0.312843  0.177817    0.318076  0.058805  0.102571  0.118374   \n",
       "ast_pct       -0.078836  0.806682    0.061723 -0.438385 -0.338098  0.329701   \n",
       "\n",
       "                 ts_pct   ast_pct  \n",
       "age            0.022131  0.066615  \n",
       "player_height  0.069618 -0.625888  \n",
       "player_weight  0.062474 -0.540902  \n",
       "gp             0.377679  0.134810  \n",
       "pts            0.378961  0.330269  \n",
       "reb            0.312843 -0.078836  \n",
       "ast            0.177817  0.806682  \n",
       "net_rating     0.318076  0.061723  \n",
       "oreb_pct       0.058805 -0.438385  \n",
       "dreb_pct       0.102571 -0.338098  \n",
       "usg_pct        0.118374  0.329701  \n",
       "ts_pct         1.000000  0.025994  \n",
       "ast_pct        0.025994  1.000000  "
      ]
     },
     "execution_count": 63,
     "metadata": {},
     "output_type": "execute_result"
    }
   ],
   "source": [
    "# A powerful and easy way to generate a correlation table to examine correlation between features\n",
    "df.corr().iloc[1:,1:]"
   ]
  },
  {
   "cell_type": "markdown",
   "metadata": {},
   "source": [
    "**Scatterplot:** A type of data display that shows the relationship between two numerical variables"
   ]
  },
  {
   "cell_type": "code",
   "execution_count": 64,
   "metadata": {},
   "outputs": [
    {
     "data": {
      "text/plain": [
       "<AxesSubplot:xlabel='player_weight', ylabel='player_height'>"
      ]
     },
     "execution_count": 64,
     "metadata": {},
     "output_type": "execute_result"
    },
    {
     "data": {
      "image/png": "[encoded data removed]",
      "text/plain": [
       "<Figure size 1008x432 with 1 Axes>"
      ]
     },
     "metadata": {},
     "output_type": "display_data"
    }
   ],
   "source": [
    "sns.scatterplot(data=df, x='player_weight', y='player_height')"
   ]
  },
  {
   "cell_type": "markdown",
   "metadata": {},
   "source": [
    "**Hexagonal Binning:** Another way to manage the problem of having to many points that start to overlap. Hexagonal binning plots density, rather than points."
   ]
  },
  {
   "cell_type": "code",
   "execution_count": 66,
   "metadata": {},
   "outputs": [
    {
     "data": {
      "text/plain": [
       "<AxesSubplot:xlabel='player_weight', ylabel='player_height'>"
      ]
     },
     "execution_count": 66,
     "metadata": {},
     "output_type": "execute_result"
    },
    {
     "data": {
      "image/png": "[encoded data removed]",
      "text/plain": [
       "<Figure size 576x432 with 2 Axes>"
      ]
     },
     "metadata": {},
     "output_type": "display_data"
    }
   ],
   "source": [
    "df.plot.hexbin(x='player_weight', y='player_height',gridsize=20, figsize=(8,6))"
   ]
  },
  {
   "cell_type": "markdown",
   "metadata": {},
   "source": [
    "**Contour Plot:** Topographical map with each contour representing a specific density of points. Contours/lines increase in density to help us determine here our data is most dense."
   ]
  },
  {
   "cell_type": "code",
   "execution_count": 68,
   "metadata": {},
   "outputs": [
    {
     "data": {
      "text/plain": [
       "<AxesSubplot:xlabel='player_weight', ylabel='player_height'>"
      ]
     },
     "execution_count": 68,
     "metadata": {},
     "output_type": "execute_result"
    },
    {
     "data": {
      "image/png": "[encoded data removed]",
      "text/plain": [
       "<Figure size 1008x432 with 1 Axes>"
      ]
     },
     "metadata": {},
     "output_type": "display_data"
    }
   ],
   "source": [
    "sns.kdeplot(data=df, x='player_weight', y='player_height', shade='fill')"
   ]
  },
  {
   "cell_type": "markdown",
   "metadata": {},
   "source": [
    "**Contingency Table:** Allow us to summarise two categorical variables by generating a count table. Yes, this is similar to a Pivot Table and I would recommend using Excel for this."
   ]
  },
  {
   "cell_type": "code",
   "execution_count": 69,
   "metadata": {},
   "outputs": [
    {
     "data": {
      "text/html": [
       "<div>\n",
       "<style scoped>\n",
       "    .dataframe tbody tr th:only-of-type {\n",
       "        vertical-align: middle;\n",
       "    }\n",
       "\n",
       "    .dataframe tbody tr th {\n",
       "        vertical-align: top;\n",
       "    }\n",
       "\n",
       "    .dataframe thead th {\n",
       "        text-align: right;\n",
       "    }\n",
       "</style>\n",
       "<table border=\"1\" class=\"dataframe\">\n",
       "  <thead>\n",
       "    <tr style=\"text-align: right;\">\n",
       "      <th>team_abbreviation</th>\n",
       "      <th>ATL</th>\n",
       "      <th>BKN</th>\n",
       "      <th>BOS</th>\n",
       "      <th>CHA</th>\n",
       "      <th>CHH</th>\n",
       "      <th>CHI</th>\n",
       "      <th>CLE</th>\n",
       "      <th>DAL</th>\n",
       "      <th>DEN</th>\n",
       "      <th>DET</th>\n",
       "      <th>GSW</th>\n",
       "      <th>HOU</th>\n",
       "      <th>IND</th>\n",
       "      <th>LAC</th>\n",
       "      <th>LAL</th>\n",
       "      <th>MEM</th>\n",
       "      <th>MIA</th>\n",
       "      <th>MIL</th>\n",
       "      <th>MIN</th>\n",
       "      <th>NJN</th>\n",
       "      <th>NOH</th>\n",
       "      <th>NOK</th>\n",
       "      <th>NOP</th>\n",
       "      <th>NYK</th>\n",
       "      <th>OKC</th>\n",
       "      <th>ORL</th>\n",
       "      <th>PHI</th>\n",
       "      <th>PHX</th>\n",
       "      <th>POR</th>\n",
       "      <th>SAC</th>\n",
       "      <th>SAS</th>\n",
       "      <th>SEA</th>\n",
       "      <th>TOR</th>\n",
       "      <th>UTA</th>\n",
       "      <th>VAN</th>\n",
       "      <th>WAS</th>\n",
       "      <th>All</th>\n",
       "    </tr>\n",
       "    <tr>\n",
       "      <th>college</th>\n",
       "      <th></th>\n",
       "      <th></th>\n",
       "      <th></th>\n",
       "      <th></th>\n",
       "      <th></th>\n",
       "      <th></th>\n",
       "      <th></th>\n",
       "      <th></th>\n",
       "      <th></th>\n",
       "      <th></th>\n",
       "      <th></th>\n",
       "      <th></th>\n",
       "      <th></th>\n",
       "      <th></th>\n",
       "      <th></th>\n",
       "      <th></th>\n",
       "      <th></th>\n",
       "      <th></th>\n",
       "      <th></th>\n",
       "      <th></th>\n",
       "      <th></th>\n",
       "      <th></th>\n",
       "      <th></th>\n",
       "      <th></th>\n",
       "      <th></th>\n",
       "      <th></th>\n",
       "      <th></th>\n",
       "      <th></th>\n",
       "      <th></th>\n",
       "      <th></th>\n",
       "      <th></th>\n",
       "      <th></th>\n",
       "      <th></th>\n",
       "      <th></th>\n",
       "      <th></th>\n",
       "      <th></th>\n",
       "      <th></th>\n",
       "    </tr>\n",
       "  </thead>\n",
       "  <tbody>\n",
       "    <tr>\n",
       "      <th></th>\n",
       "      <td>0.0</td>\n",
       "      <td>0.0</td>\n",
       "      <td>0.0</td>\n",
       "      <td>0.0</td>\n",
       "      <td>0.0</td>\n",
       "      <td>0.0</td>\n",
       "      <td>0.0</td>\n",
       "      <td>0.0</td>\n",
       "      <td>0.0</td>\n",
       "      <td>0.0</td>\n",
       "      <td>0.0</td>\n",
       "      <td>0.0</td>\n",
       "      <td>0.0</td>\n",
       "      <td>0.0</td>\n",
       "      <td>0.0</td>\n",
       "      <td>0.0</td>\n",
       "      <td>0.0</td>\n",
       "      <td>2.0</td>\n",
       "      <td>0.0</td>\n",
       "      <td>0.0</td>\n",
       "      <td>0.0</td>\n",
       "      <td>0.0</td>\n",
       "      <td>0.0</td>\n",
       "      <td>1.0</td>\n",
       "      <td>0.0</td>\n",
       "      <td>0.0</td>\n",
       "      <td>0.0</td>\n",
       "      <td>0.0</td>\n",
       "      <td>1.0</td>\n",
       "      <td>0.0</td>\n",
       "      <td>0.0</td>\n",
       "      <td>0.0</td>\n",
       "      <td>0.0</td>\n",
       "      <td>0.0</td>\n",
       "      <td>0.0</td>\n",
       "      <td>0.0</td>\n",
       "      <td>4</td>\n",
       "    </tr>\n",
       "    <tr>\n",
       "      <th></th>\n",
       "      <td>0.0</td>\n",
       "      <td>0.0</td>\n",
       "      <td>0.0</td>\n",
       "      <td>0.0</td>\n",
       "      <td>0.0</td>\n",
       "      <td>0.0</td>\n",
       "      <td>0.0</td>\n",
       "      <td>0.0</td>\n",
       "      <td>0.0</td>\n",
       "      <td>0.0</td>\n",
       "      <td>0.0</td>\n",
       "      <td>0.0</td>\n",
       "      <td>0.0</td>\n",
       "      <td>1.0</td>\n",
       "      <td>0.0</td>\n",
       "      <td>0.0</td>\n",
       "      <td>0.0</td>\n",
       "      <td>0.0</td>\n",
       "      <td>0.0</td>\n",
       "      <td>0.0</td>\n",
       "      <td>0.0</td>\n",
       "      <td>0.0</td>\n",
       "      <td>0.0</td>\n",
       "      <td>0.0</td>\n",
       "      <td>0.0</td>\n",
       "      <td>0.0</td>\n",
       "      <td>0.0</td>\n",
       "      <td>0.0</td>\n",
       "      <td>0.0</td>\n",
       "      <td>0.0</td>\n",
       "      <td>0.0</td>\n",
       "      <td>0.0</td>\n",
       "      <td>0.0</td>\n",
       "      <td>0.0</td>\n",
       "      <td>0.0</td>\n",
       "      <td>0.0</td>\n",
       "      <td>1</td>\n",
       "    </tr>\n",
       "    <tr>\n",
       "      <th>Alabama</th>\n",
       "      <td>0.0</td>\n",
       "      <td>2.0</td>\n",
       "      <td>2.0</td>\n",
       "      <td>8.0</td>\n",
       "      <td>0.0</td>\n",
       "      <td>1.0</td>\n",
       "      <td>10.0</td>\n",
       "      <td>0.0</td>\n",
       "      <td>10.0</td>\n",
       "      <td>5.0</td>\n",
       "      <td>6.0</td>\n",
       "      <td>0.0</td>\n",
       "      <td>5.0</td>\n",
       "      <td>5.0</td>\n",
       "      <td>7.0</td>\n",
       "      <td>4.0</td>\n",
       "      <td>3.0</td>\n",
       "      <td>8.0</td>\n",
       "      <td>4.0</td>\n",
       "      <td>1.0</td>\n",
       "      <td>0.0</td>\n",
       "      <td>0.0</td>\n",
       "      <td>2.0</td>\n",
       "      <td>5.0</td>\n",
       "      <td>0.0</td>\n",
       "      <td>3.0</td>\n",
       "      <td>1.0</td>\n",
       "      <td>2.0</td>\n",
       "      <td>4.0</td>\n",
       "      <td>3.0</td>\n",
       "      <td>7.0</td>\n",
       "      <td>0.0</td>\n",
       "      <td>1.0</td>\n",
       "      <td>3.0</td>\n",
       "      <td>1.0</td>\n",
       "      <td>1.0</td>\n",
       "      <td>114</td>\n",
       "    </tr>\n",
       "    <tr>\n",
       "      <th>Alabama A&amp;M</th>\n",
       "      <td>0.0</td>\n",
       "      <td>0.0</td>\n",
       "      <td>0.0</td>\n",
       "      <td>0.0</td>\n",
       "      <td>0.0</td>\n",
       "      <td>0.0</td>\n",
       "      <td>0.0</td>\n",
       "      <td>0.0</td>\n",
       "      <td>0.0</td>\n",
       "      <td>0.0</td>\n",
       "      <td>1.0</td>\n",
       "      <td>0.0</td>\n",
       "      <td>0.0</td>\n",
       "      <td>0.0</td>\n",
       "      <td>0.0</td>\n",
       "      <td>0.0</td>\n",
       "      <td>0.0</td>\n",
       "      <td>0.0</td>\n",
       "      <td>0.0</td>\n",
       "      <td>0.0</td>\n",
       "      <td>0.0</td>\n",
       "      <td>0.0</td>\n",
       "      <td>0.0</td>\n",
       "      <td>0.0</td>\n",
       "      <td>0.0</td>\n",
       "      <td>0.0</td>\n",
       "      <td>0.0</td>\n",
       "      <td>0.0</td>\n",
       "      <td>0.0</td>\n",
       "      <td>0.0</td>\n",
       "      <td>0.0</td>\n",
       "      <td>0.0</td>\n",
       "      <td>0.0</td>\n",
       "      <td>0.0</td>\n",
       "      <td>0.0</td>\n",
       "      <td>0.0</td>\n",
       "      <td>1</td>\n",
       "    </tr>\n",
       "    <tr>\n",
       "      <th>Alabama Huntsville</th>\n",
       "      <td>1.0</td>\n",
       "      <td>0.0</td>\n",
       "      <td>0.0</td>\n",
       "      <td>0.0</td>\n",
       "      <td>0.0</td>\n",
       "      <td>0.0</td>\n",
       "      <td>0.0</td>\n",
       "      <td>0.0</td>\n",
       "      <td>0.0</td>\n",
       "      <td>0.0</td>\n",
       "      <td>0.0</td>\n",
       "      <td>0.0</td>\n",
       "      <td>0.0</td>\n",
       "      <td>0.0</td>\n",
       "      <td>0.0</td>\n",
       "      <td>0.0</td>\n",
       "      <td>0.0</td>\n",
       "      <td>0.0</td>\n",
       "      <td>0.0</td>\n",
       "      <td>0.0</td>\n",
       "      <td>0.0</td>\n",
       "      <td>0.0</td>\n",
       "      <td>0.0</td>\n",
       "      <td>0.0</td>\n",
       "      <td>0.0</td>\n",
       "      <td>1.0</td>\n",
       "      <td>0.0</td>\n",
       "      <td>0.0</td>\n",
       "      <td>0.0</td>\n",
       "      <td>0.0</td>\n",
       "      <td>0.0</td>\n",
       "      <td>0.0</td>\n",
       "      <td>0.0</td>\n",
       "      <td>0.0</td>\n",
       "      <td>0.0</td>\n",
       "      <td>0.0</td>\n",
       "      <td>2</td>\n",
       "    </tr>\n",
       "    <tr>\n",
       "      <th>...</th>\n",
       "      <td>...</td>\n",
       "      <td>...</td>\n",
       "      <td>...</td>\n",
       "      <td>...</td>\n",
       "      <td>...</td>\n",
       "      <td>...</td>\n",
       "      <td>...</td>\n",
       "      <td>...</td>\n",
       "      <td>...</td>\n",
       "      <td>...</td>\n",
       "      <td>...</td>\n",
       "      <td>...</td>\n",
       "      <td>...</td>\n",
       "      <td>...</td>\n",
       "      <td>...</td>\n",
       "      <td>...</td>\n",
       "      <td>...</td>\n",
       "      <td>...</td>\n",
       "      <td>...</td>\n",
       "      <td>...</td>\n",
       "      <td>...</td>\n",
       "      <td>...</td>\n",
       "      <td>...</td>\n",
       "      <td>...</td>\n",
       "      <td>...</td>\n",
       "      <td>...</td>\n",
       "      <td>...</td>\n",
       "      <td>...</td>\n",
       "      <td>...</td>\n",
       "      <td>...</td>\n",
       "      <td>...</td>\n",
       "      <td>...</td>\n",
       "      <td>...</td>\n",
       "      <td>...</td>\n",
       "      <td>...</td>\n",
       "      <td>...</td>\n",
       "      <td>...</td>\n",
       "    </tr>\n",
       "    <tr>\n",
       "      <th>Wyoming</th>\n",
       "      <td>4.0</td>\n",
       "      <td>0.0</td>\n",
       "      <td>1.0</td>\n",
       "      <td>1.0</td>\n",
       "      <td>0.0</td>\n",
       "      <td>0.0</td>\n",
       "      <td>4.0</td>\n",
       "      <td>0.0</td>\n",
       "      <td>0.0</td>\n",
       "      <td>2.0</td>\n",
       "      <td>0.0</td>\n",
       "      <td>1.0</td>\n",
       "      <td>0.0</td>\n",
       "      <td>0.0</td>\n",
       "      <td>3.0</td>\n",
       "      <td>1.0</td>\n",
       "      <td>0.0</td>\n",
       "      <td>1.0</td>\n",
       "      <td>2.0</td>\n",
       "      <td>0.0</td>\n",
       "      <td>0.0</td>\n",
       "      <td>0.0</td>\n",
       "      <td>0.0</td>\n",
       "      <td>0.0</td>\n",
       "      <td>0.0</td>\n",
       "      <td>0.0</td>\n",
       "      <td>6.0</td>\n",
       "      <td>1.0</td>\n",
       "      <td>3.0</td>\n",
       "      <td>3.0</td>\n",
       "      <td>0.0</td>\n",
       "      <td>0.0</td>\n",
       "      <td>3.0</td>\n",
       "      <td>0.0</td>\n",
       "      <td>1.0</td>\n",
       "      <td>0.0</td>\n",
       "      <td>37</td>\n",
       "    </tr>\n",
       "    <tr>\n",
       "      <th>Xavier</th>\n",
       "      <td>0.0</td>\n",
       "      <td>0.0</td>\n",
       "      <td>3.0</td>\n",
       "      <td>3.0</td>\n",
       "      <td>1.0</td>\n",
       "      <td>0.0</td>\n",
       "      <td>4.0</td>\n",
       "      <td>0.0</td>\n",
       "      <td>3.0</td>\n",
       "      <td>0.0</td>\n",
       "      <td>3.0</td>\n",
       "      <td>2.0</td>\n",
       "      <td>9.0</td>\n",
       "      <td>4.0</td>\n",
       "      <td>1.0</td>\n",
       "      <td>2.0</td>\n",
       "      <td>7.0</td>\n",
       "      <td>1.0</td>\n",
       "      <td>0.0</td>\n",
       "      <td>4.0</td>\n",
       "      <td>8.0</td>\n",
       "      <td>3.0</td>\n",
       "      <td>3.0</td>\n",
       "      <td>1.0</td>\n",
       "      <td>1.0</td>\n",
       "      <td>4.0</td>\n",
       "      <td>4.0</td>\n",
       "      <td>1.0</td>\n",
       "      <td>3.0</td>\n",
       "      <td>2.0</td>\n",
       "      <td>1.0</td>\n",
       "      <td>2.0</td>\n",
       "      <td>1.0</td>\n",
       "      <td>0.0</td>\n",
       "      <td>1.0</td>\n",
       "      <td>4.0</td>\n",
       "      <td>86</td>\n",
       "    </tr>\n",
       "    <tr>\n",
       "      <th>Yale</th>\n",
       "      <td>0.0</td>\n",
       "      <td>0.0</td>\n",
       "      <td>0.0</td>\n",
       "      <td>0.0</td>\n",
       "      <td>0.0</td>\n",
       "      <td>0.0</td>\n",
       "      <td>0.0</td>\n",
       "      <td>0.0</td>\n",
       "      <td>0.0</td>\n",
       "      <td>0.0</td>\n",
       "      <td>0.0</td>\n",
       "      <td>0.0</td>\n",
       "      <td>0.0</td>\n",
       "      <td>0.0</td>\n",
       "      <td>0.0</td>\n",
       "      <td>0.0</td>\n",
       "      <td>0.0</td>\n",
       "      <td>0.0</td>\n",
       "      <td>0.0</td>\n",
       "      <td>0.0</td>\n",
       "      <td>0.0</td>\n",
       "      <td>0.0</td>\n",
       "      <td>0.0</td>\n",
       "      <td>3.0</td>\n",
       "      <td>0.0</td>\n",
       "      <td>0.0</td>\n",
       "      <td>0.0</td>\n",
       "      <td>1.0</td>\n",
       "      <td>3.0</td>\n",
       "      <td>0.0</td>\n",
       "      <td>0.0</td>\n",
       "      <td>0.0</td>\n",
       "      <td>0.0</td>\n",
       "      <td>2.0</td>\n",
       "      <td>0.0</td>\n",
       "      <td>0.0</td>\n",
       "      <td>9</td>\n",
       "    </tr>\n",
       "    <tr>\n",
       "      <th>Yonsei (KOR)</th>\n",
       "      <td>0.0</td>\n",
       "      <td>0.0</td>\n",
       "      <td>0.0</td>\n",
       "      <td>0.0</td>\n",
       "      <td>0.0</td>\n",
       "      <td>0.0</td>\n",
       "      <td>0.0</td>\n",
       "      <td>0.0</td>\n",
       "      <td>0.0</td>\n",
       "      <td>0.0</td>\n",
       "      <td>0.0</td>\n",
       "      <td>0.0</td>\n",
       "      <td>0.0</td>\n",
       "      <td>0.0</td>\n",
       "      <td>0.0</td>\n",
       "      <td>0.0</td>\n",
       "      <td>0.0</td>\n",
       "      <td>0.0</td>\n",
       "      <td>0.0</td>\n",
       "      <td>0.0</td>\n",
       "      <td>0.0</td>\n",
       "      <td>0.0</td>\n",
       "      <td>0.0</td>\n",
       "      <td>0.0</td>\n",
       "      <td>0.0</td>\n",
       "      <td>0.0</td>\n",
       "      <td>0.0</td>\n",
       "      <td>0.0</td>\n",
       "      <td>2.0</td>\n",
       "      <td>0.0</td>\n",
       "      <td>0.0</td>\n",
       "      <td>0.0</td>\n",
       "      <td>0.0</td>\n",
       "      <td>0.0</td>\n",
       "      <td>0.0</td>\n",
       "      <td>0.0</td>\n",
       "      <td>2</td>\n",
       "    </tr>\n",
       "    <tr>\n",
       "      <th>All</th>\n",
       "      <td>400.0</td>\n",
       "      <td>163.0</td>\n",
       "      <td>385.0</td>\n",
       "      <td>271.0</td>\n",
       "      <td>89.0</td>\n",
       "      <td>386.0</td>\n",
       "      <td>411.0</td>\n",
       "      <td>401.0</td>\n",
       "      <td>392.0</td>\n",
       "      <td>375.0</td>\n",
       "      <td>393.0</td>\n",
       "      <td>402.0</td>\n",
       "      <td>390.0</td>\n",
       "      <td>408.0</td>\n",
       "      <td>390.0</td>\n",
       "      <td>330.0</td>\n",
       "      <td>405.0</td>\n",
       "      <td>390.0</td>\n",
       "      <td>382.0</td>\n",
       "      <td>257.0</td>\n",
       "      <td>143.0</td>\n",
       "      <td>32.0</td>\n",
       "      <td>141.0</td>\n",
       "      <td>389.0</td>\n",
       "      <td>213.0</td>\n",
       "      <td>390.0</td>\n",
       "      <td>401.0</td>\n",
       "      <td>377.0</td>\n",
       "      <td>383.0</td>\n",
       "      <td>378.0</td>\n",
       "      <td>395.0</td>\n",
       "      <td>182.0</td>\n",
       "      <td>408.0</td>\n",
       "      <td>377.0</td>\n",
       "      <td>72.0</td>\n",
       "      <td>399.0</td>\n",
       "      <td>11700</td>\n",
       "    </tr>\n",
       "  </tbody>\n",
       "</table>\n",
       "<p>337 rows × 37 columns</p>\n",
       "</div>"
      ],
      "text/plain": [
       "team_abbreviation                      ATL    BKN    BOS    CHA   CHH    CHI  \\\n",
       "college                                                                        \n",
       "                                       0.0    0.0    0.0    0.0   0.0    0.0   \n",
       "                                       0.0    0.0    0.0    0.0   0.0    0.0   \n",
       "Alabama                                0.0    2.0    2.0    8.0   0.0    1.0   \n",
       "Alabama A&M                            0.0    0.0    0.0    0.0   0.0    0.0   \n",
       "Alabama Huntsville                     1.0    0.0    0.0    0.0   0.0    0.0   \n",
       "...                                    ...    ...    ...    ...   ...    ...   \n",
       "Wyoming                                4.0    0.0    1.0    1.0   0.0    0.0   \n",
       "Xavier                                 0.0    0.0    3.0    3.0   1.0    0.0   \n",
       "Yale                                   0.0    0.0    0.0    0.0   0.0    0.0   \n",
       "Yonsei (KOR)                           0.0    0.0    0.0    0.0   0.0    0.0   \n",
       "All                                  400.0  163.0  385.0  271.0  89.0  386.0   \n",
       "\n",
       "team_abbreviation                      CLE    DAL    DEN    DET    GSW    HOU  \\\n",
       "college                                                                         \n",
       "                                       0.0    0.0    0.0    0.0    0.0    0.0   \n",
       "                                       0.0    0.0    0.0    0.0    0.0    0.0   \n",
       "Alabama                               10.0    0.0   10.0    5.0    6.0    0.0   \n",
       "Alabama A&M                            0.0    0.0    0.0    0.0    1.0    0.0   \n",
       "Alabama Huntsville                     0.0    0.0    0.0    0.0    0.0    0.0   \n",
       "...                                    ...    ...    ...    ...    ...    ...   \n",
       "Wyoming                                4.0    0.0    0.0    2.0    0.0    1.0   \n",
       "Xavier                                 4.0    0.0    3.0    0.0    3.0    2.0   \n",
       "Yale                                   0.0    0.0    0.0    0.0    0.0    0.0   \n",
       "Yonsei (KOR)                           0.0    0.0    0.0    0.0    0.0    0.0   \n",
       "All                                  411.0  401.0  392.0  375.0  393.0  402.0   \n",
       "\n",
       "team_abbreviation                      IND    LAC    LAL    MEM    MIA    MIL  \\\n",
       "college                                                                         \n",
       "                                       0.0    0.0    0.0    0.0    0.0    2.0   \n",
       "                                       0.0    1.0    0.0    0.0    0.0    0.0   \n",
       "Alabama                                5.0    5.0    7.0    4.0    3.0    8.0   \n",
       "Alabama A&M                            0.0    0.0    0.0    0.0    0.0    0.0   \n",
       "Alabama Huntsville                     0.0    0.0    0.0    0.0    0.0    0.0   \n",
       "...                                    ...    ...    ...    ...    ...    ...   \n",
       "Wyoming                                0.0    0.0    3.0    1.0    0.0    1.0   \n",
       "Xavier                                 9.0    4.0    1.0    2.0    7.0    1.0   \n",
       "Yale                                   0.0    0.0    0.0    0.0    0.0    0.0   \n",
       "Yonsei (KOR)                           0.0    0.0    0.0    0.0    0.0    0.0   \n",
       "All                                  390.0  408.0  390.0  330.0  405.0  390.0   \n",
       "\n",
       "team_abbreviation                      MIN    NJN    NOH   NOK    NOP    NYK  \\\n",
       "college                                                                        \n",
       "                                       0.0    0.0    0.0   0.0    0.0    1.0   \n",
       "                                       0.0    0.0    0.0   0.0    0.0    0.0   \n",
       "Alabama                                4.0    1.0    0.0   0.0    2.0    5.0   \n",
       "Alabama A&M                            0.0    0.0    0.0   0.0    0.0    0.0   \n",
       "Alabama Huntsville                     0.0    0.0    0.0   0.0    0.0    0.0   \n",
       "...                                    ...    ...    ...   ...    ...    ...   \n",
       "Wyoming                                2.0    0.0    0.0   0.0    0.0    0.0   \n",
       "Xavier                                 0.0    4.0    8.0   3.0    3.0    1.0   \n",
       "Yale                                   0.0    0.0    0.0   0.0    0.0    3.0   \n",
       "Yonsei (KOR)                           0.0    0.0    0.0   0.0    0.0    0.0   \n",
       "All                                  382.0  257.0  143.0  32.0  141.0  389.0   \n",
       "\n",
       "team_abbreviation                      OKC    ORL    PHI    PHX    POR    SAC  \\\n",
       "college                                                                         \n",
       "                                       0.0    0.0    0.0    0.0    1.0    0.0   \n",
       "                                       0.0    0.0    0.0    0.0    0.0    0.0   \n",
       "Alabama                                0.0    3.0    1.0    2.0    4.0    3.0   \n",
       "Alabama A&M                            0.0    0.0    0.0    0.0    0.0    0.0   \n",
       "Alabama Huntsville                     0.0    1.0    0.0    0.0    0.0    0.0   \n",
       "...                                    ...    ...    ...    ...    ...    ...   \n",
       "Wyoming                                0.0    0.0    6.0    1.0    3.0    3.0   \n",
       "Xavier                                 1.0    4.0    4.0    1.0    3.0    2.0   \n",
       "Yale                                   0.0    0.0    0.0    1.0    3.0    0.0   \n",
       "Yonsei (KOR)                           0.0    0.0    0.0    0.0    2.0    0.0   \n",
       "All                                  213.0  390.0  401.0  377.0  383.0  378.0   \n",
       "\n",
       "team_abbreviation                      SAS    SEA    TOR    UTA   VAN    WAS  \\\n",
       "college                                                                        \n",
       "                                       0.0    0.0    0.0    0.0   0.0    0.0   \n",
       "                                       0.0    0.0    0.0    0.0   0.0    0.0   \n",
       "Alabama                                7.0    0.0    1.0    3.0   1.0    1.0   \n",
       "Alabama A&M                            0.0    0.0    0.0    0.0   0.0    0.0   \n",
       "Alabama Huntsville                     0.0    0.0    0.0    0.0   0.0    0.0   \n",
       "...                                    ...    ...    ...    ...   ...    ...   \n",
       "Wyoming                                0.0    0.0    3.0    0.0   1.0    0.0   \n",
       "Xavier                                 1.0    2.0    1.0    0.0   1.0    4.0   \n",
       "Yale                                   0.0    0.0    0.0    2.0   0.0    0.0   \n",
       "Yonsei (KOR)                           0.0    0.0    0.0    0.0   0.0    0.0   \n",
       "All                                  395.0  182.0  408.0  377.0  72.0  399.0   \n",
       "\n",
       "team_abbreviation                      All  \n",
       "college                                     \n",
       "                                         4  \n",
       "                                         1  \n",
       "Alabama                                114  \n",
       "Alabama A&M                              1  \n",
       "Alabama Huntsville                       2  \n",
       "...                                    ...  \n",
       "Wyoming                                 37  \n",
       "Xavier                                  86  \n",
       "Yale                                     9  \n",
       "Yonsei (KOR)                             2  \n",
       "All                                  11700  \n",
       "\n",
       "[337 rows x 37 columns]"
      ]
     },
     "execution_count": 69,
     "metadata": {},
     "output_type": "execute_result"
    }
   ],
   "source": [
    "crosstab = df[[\"college\", \"team_abbreviation\"]].pivot_table(\n",
    "\t\tindex='college', \n",
    "\t\tcolumns='team_abbreviation',\n",
    "\t\taggfunc=lambda x: len(x), \n",
    "\t\tmargins=True\n",
    ")\n",
    "crosstab.fillna(0, inplace=False)"
   ]
  },
  {
   "cell_type": "markdown",
   "metadata": {},
   "source": [
    "**Violin Plot:** Violin plots add a density estimate feature on the y-axis to a boxplot. This helps us see the distribution of values within the boxes and identify where the density of values biases. However, the are less apt at representing outliers vs a box plot."
   ]
  },
  {
   "cell_type": "code",
   "execution_count": 70,
   "metadata": {},
   "outputs": [
    {
     "data": {
      "text/plain": [
       "<AxesSubplot:xlabel='pts', ylabel='team_abbreviation'>"
      ]
     },
     "execution_count": 70,
     "metadata": {},
     "output_type": "execute_result"
    },
    {
     "data": {
      "image/png": "[encoded data removed]",
      "text/plain": [
       "<Figure size 1008x432 with 1 Axes>"
      ]
     },
     "metadata": {},
     "output_type": "display_data"
    }
   ],
   "source": [
    "pts_by_team_comparison = ['CHI', 'BOS', 'GSW', 'HOU', 'MIA']\n",
    "df_pts_comparison = df.loc[df['team_abbreviation'].isin(pts_by_team_comparison)]\n",
    "\n",
    "sns.violinplot(x=df_pts_comparison['pts'], y=df_pts_comparison['team_abbreviation'])"
   ]
  },
  {
   "cell_type": "markdown",
   "metadata": {},
   "source": [
    "**Heatmap:** A correlation heatmap is a graphical representation of a correlation matrix representing the correlation between different variables."
   ]
  },
  {
   "cell_type": "code",
   "execution_count": 71,
   "metadata": {},
   "outputs": [
    {
     "data": {
      "text/plain": [
       "<AxesSubplot:>"
      ]
     },
     "execution_count": 71,
     "metadata": {},
     "output_type": "execute_result"
    },
    {
     "data": {
      "image/png": "[encoded data removed]",
      "text/plain": [
       "<Figure size 1008x432 with 2 Axes>"
      ]
     },
     "metadata": {},
     "output_type": "display_data"
    }
   ],
   "source": [
    "sns.heatmap(df.corr())"
   ]
  }
 ],
 "metadata": {
  "kernelspec": {
   "display_name": "Python 3.9.4 64-bit (system)",
   "language": "python",
   "name": "python3"
  },
  "language_info": {
   "codemirror_mode": {
    "name": "ipython",
    "version": 3
   },
   "file_extension": ".py",
   "mimetype": "text/x-python",
   "name": "python",
   "nbconvert_exporter": "python",
   "pygments_lexer": "ipython3",
   "version": "3.9.4"
  },
  "orig_nbformat": 4,
  "vscode": {
   "interpreter": {
    "hash": "85229ac0df666ae9fa0eed250040a4f6e9e2cee65b317bececa8764175538f05"
   }
  }
 },
 "nbformat": 4,
 "nbformat_minor": 2
}
